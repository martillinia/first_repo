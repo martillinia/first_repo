{
 "cells": [
  {
   "cell_type": "code",
   "execution_count": null,
   "id": "2ff4d954-0bc1-4535-a2bd-449f3a21bcb3",
   "metadata": {},
   "outputs": [],
   "source": [
    "# Define the value of pi and the radius of a circle\n",
    "pi = 3.14159\n",
    "radius = 2.2\n",
    "\n",
    "# Calculate the area of a circle using the formula:\n",
    "area = pi * (radius ** 2)\n",
    "\n",
    "# Print the area\n",
    "print(area)"
   ]
  },
  {
   "cell_type": "code",
   "execution_count": null,
   "id": "9074fc00-2242-44b0-aa7a-6c9a032219ae",
   "metadata": {},
   "outputs": [],
   "source": [
    "# Increase the radius by 1\n",
    "radius = radius + 1\n",
    "\n",
    "# Print old area\n",
    "print(area)\n",
    "\n",
    "# Recalculate the area with the new radius\n",
    "area = pi * (radius ** 2)\n",
    "print(area)"
   ]
  },
  {
   "cell_type": "code",
   "execution_count": 1,
   "id": "5c3d8b7f-01c2-4664-82e7-c0ea1954efd1",
   "metadata": {},
   "outputs": [],
   "source": [
    "# In Jupyter, you can quickly comment or uncomment multiple lines by selecting them and pressing:\n",
    "# Mac: Command + /\n",
    "# Try it on the lines below!\n",
    "\n",
    "# area = pi * (radius ** 2)\n",
    "# print(area)\n",
    "# radius = radius + 1\n",
    "# area = pi * (radius ** 2)\n",
    "# print(area)"
   ]
  },
  {
   "cell_type": "code",
   "execution_count": null,
   "id": "d261e234-15c0-4b1d-8fbe-ac67ebc6ea6d",
   "metadata": {},
   "outputs": [],
   "source": [
    "# Jupyter also supports autocomplete like Spyder\n",
    "# Start typing the variable name below and press the \"Tab\" key\n",
    "# to let Jupyter finish it for you.\n",
    "\n",
    "# Define a very long variable name\n",
    "a_very_long_variable_name_dont_name_them_this_long_pls = 0\n",
    "\n",
    "# Try typing \"a_ve\" and pressing Tab to autocomplete the name.\n",
    "# Change its value to 1:\n",
    "a_very_long_variable_name_dont_name_them_this_long_pls = 1\n",
    "\n",
    "# Now use autocomplete again to print the value of this variable.\n",
    "print(a_very_long_variable_name_dont_name_them_this_long_pls)"
   ]
  }
 ],
 "metadata": {
  "kernelspec": {
   "display_name": "Python [conda env:base] *",
   "language": "python",
   "name": "conda-base-py"
  },
  "language_info": {
   "codemirror_mode": {
    "name": "ipython",
    "version": 3
   },
   "file_extension": ".py",
   "mimetype": "text/x-python",
   "name": "python",
   "nbconvert_exporter": "python",
   "pygments_lexer": "ipython3",
   "version": "3.13.5"
  }
 },
 "nbformat": 4,
 "nbformat_minor": 5
}
